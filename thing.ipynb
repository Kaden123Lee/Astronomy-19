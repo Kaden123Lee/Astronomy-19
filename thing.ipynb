{
 "cells": [
  {
   "cell_type": "code",
   "execution_count": null,
   "id": "fef772c6-de7f-40a4-88f9-10f5a30ea2db",
   "metadata": {},
   "outputs": [],
   "source": [
    "import numpy as np\n",
    "import matplotlib.pyplot as plt\n",
    "distribution = 'normal'\n",
    "if distribution == 'normal':\n",
    "    random_numbers = np.random.normal(loc=0, scale=1, size=1000)\n",
    "elif distribution == 'exponential':\n",
    "    random_numbers = np.random.exponential(scale=1, size=1000)\n",
    "elif distribution == 'lognormal':\n",
    "    random_numbers = np.random.lognormal(mean=0, sigma=1, size=1000)\n",
    "plt.hist(random_numbers, bins=100, density=True, alpha=0.7)\n",
    "plt.xlabel('Value')\n",
    "plt.ylabel('Probability Density')\n",
    "plt.title(f'Histogram of {distribution} Distribution')\n",
    "plt.savefig('histogram.pdf')\n",
    "plt.show()"
   ]
  },
  {
   "cell_type": "code",
   "execution_count": null,
   "id": "7d80bb13-ccdc-4e4f-879f-dd4a7fb5abb3",
   "metadata": {},
   "outputs": [],
   "source": []
  }
 ],
 "metadata": {
  "kernelspec": {
   "display_name": "ASTR 19",
   "language": "python",
   "name": "astr19"
  },
  "language_info": {
   "codemirror_mode": {
    "name": "ipython",
    "version": 3
   },
   "file_extension": ".py",
   "mimetype": "text/x-python",
   "name": "python",
   "nbconvert_exporter": "python",
   "pygments_lexer": "ipython3",
   "version": "3.10.12"
  }
 },
 "nbformat": 4,
 "nbformat_minor": 5
}

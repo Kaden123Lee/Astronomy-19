{
 "cells": [
  {
   "cell_type": "code",
   "execution_count": null,
   "id": "f73ca0b7-e5ec-49de-8fd9-40c10c9e05e2",
   "metadata": {},
   "outputs": [],
   "source": [
    "import numpy as np\n",
    "step = (np.pi * 2) / 1000\n",
    "x = np.arange(0, 2 * np.pi, step)\n"
   ]
  },
  {
   "cell_type": "markdown",
   "id": "2b7e4cc0-d9cd-42cd-aaf5-b71fa4a1fcd6",
   "metadata": {},
   "source": [
    "Im important numpy so i can use it for cos and sin functions IM also setting up the x variable outside of the main function so its global same with step"
   ]
  },
  {
   "cell_type": "code",
   "execution_count": null,
   "id": "39445705-66b6-4092-a28d-7a827e27431b",
   "metadata": {},
   "outputs": [],
   "source": [
    "def Sin(x):\n",
    "    hold_sin = np.sin(x)\n",
    "    return hold_sin\n"
   ]
  },
  {
   "cell_type": "markdown",
   "id": "ef2d5da6-4ce1-4e90-a8ca-a4554aefeb1d",
   "metadata": {},
   "source": [
    "define functions sin(X) and returning it so it so you can see it"
   ]
  },
  {
   "cell_type": "code",
   "execution_count": null,
   "id": "8d3684af-0b96-4139-aa23-846bd706c72b",
   "metadata": {},
   "outputs": [],
   "source": [
    "def Cos(x):\n",
    "    hold_cos = np.cos(x)\n",
    "    return hold_cos"
   ]
  },
  {
   "cell_type": "markdown",
   "id": "e30fd05c-c106-47e0-8732-c0f6009cd95b",
   "metadata": {},
   "source": [
    "define functions cos(x)"
   ]
  },
  {
   "cell_type": "code",
   "execution_count": null,
   "id": "dbe9b3a7-7840-4f59-9817-3478c01bca87",
   "metadata": {},
   "outputs": [],
   "source": [
    "def main():\n",
    "    print(Sin(x))\n",
    "    print(Cos(x)) \n",
    "if __name__ == \"__main__\":\n",
    "    main()"
   ]
  },
  {
   "cell_type": "markdown",
   "id": "afe7d0d5-87fc-480f-8871-484bbc54e82f",
   "metadata": {},
   "source": [
    "I created the main function so that i could print out my sin and cos things so its chill like that"
   ]
  },
  {
   "cell_type": "code",
   "execution_count": 84,
   "id": "253a9620-46e2-4778-a5c8-c312909fe908",
   "metadata": {
    "tags": []
   },
   "outputs": [
    {
     "name": "stdout",
     "output_type": "stream",
     "text": [
      "0.0 0.0 1.0\n",
      "0.006283185307179587 0.006283143965558951 0.9999802608561372\n",
      "0.012566370614359173 0.012566039883352607 0.9999210442038163\n",
      "0.01884955592153876 0.018848439715408175 0.9998223523808092\n",
      "0.025132741228718346 0.02513009544333748 0.9996841892833003\n",
      "0.031415926535897934 0.0314107590781283 0.9995065603657317\n",
      "0.03769911184307752 0.03769018266993454 0.9992894726405894\n",
      "0.04398229715025711 0.04396811831786491 0.9990329346781248\n",
      "0.05026548245743669 0.050244318179769556 0.9987369566060176\n",
      "0.05654866776461628 0.05651853448202453 0.9984015501089751\n",
      "0.06283185307179587 0.06279051952931337 0.9980267284282716\n"
     ]
    }
   ],
   "source": [
    "for i in range(11):\n",
    "    print(x[i], Sin(x[i]), Cos(x[i]))\n",
    "        "
   ]
  },
  {
   "cell_type": "markdown",
   "id": "72309e94-7005-4938-9c99-342f3371388c",
   "metadata": {},
   "source": [
    "For loop that prints out the x, sin, cos values the first 10."
   ]
  }
 ],
 "metadata": {
  "kernelspec": {
   "display_name": "ASTR 19",
   "language": "python",
   "name": "astr19"
  },
  "language_info": {
   "codemirror_mode": {
    "name": "ipython",
    "version": 3
   },
   "file_extension": ".py",
   "mimetype": "text/x-python",
   "name": "python",
   "nbconvert_exporter": "python",
   "pygments_lexer": "ipython3",
   "version": "3.10.12"
  }
 },
 "nbformat": 4,
 "nbformat_minor": 5
}
